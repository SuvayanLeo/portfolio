{
 "cells": [
  {
   "cell_type": "code",
   "execution_count": 7,
   "metadata": {},
   "outputs": [],
   "source": [
    "# import a csv\n",
    "import pandas as pd\n",
    "import json\n",
    "\n",
    "# read csv\n",
    "df = pd.read_csv('slag.csv')\n"
   ]
  },
  {
   "cell_type": "code",
   "execution_count": 8,
   "metadata": {},
   "outputs": [],
   "source": [
    "import re\n",
    "\n",
    "def extract_standard_youtube_link(text):\n",
    "    # Regular expression pattern to match YouTube links\n",
    "    youtube_pattern = r\"(?:https?:\\/\\/)?(?:www\\.)?(?:youtube\\.com|youtu\\.be)\\/(?:watch\\?v=)?([a-zA-Z0-9_-]{11})\"\n",
    "    \n",
    "    # Find the first match of a YouTube link in the text\n",
    "    match = re.search(youtube_pattern, text)\n",
    "    \n",
    "    if match:\n",
    "        video_id = match.group(1)\n",
    "        youtube_link = f\"https://www.youtube.com/watch?v={video_id}\"\n",
    "        return youtube_link\n",
    "    \n",
    "    return \"\""
   ]
  },
  {
   "cell_type": "code",
   "execution_count": 9,
   "metadata": {},
   "outputs": [
    {
     "data": {
      "text/plain": [
       "'https://www.youtube.com/watch?v=aOCOke2qrkc'"
      ]
     },
     "execution_count": 9,
     "metadata": {},
     "output_type": "execute_result"
    }
   ],
   "source": [
    "extract_standard_youtube_link(\"https://m.youtube.com/watch?v=aOCOke2qrkc\")"
   ]
  },
  {
   "cell_type": "code",
   "execution_count": 10,
   "metadata": {},
   "outputs": [
    {
     "name": "stdout",
     "output_type": "stream",
     "text": [
      "[{'title': 'Cinematic Western Wedding Films', 'description': 'Cinematic western wedding Films. With Story build up and Full color correction, Edited in Premier Pro', 'videos': ['https://www.youtube.com/watch?v=tAJnu6SJ9mo', 'https://www.youtube.com/watch?v=u4nLLun2ImE', 'https://www.youtube.com/watch?v=jJLX40HjPFs', 'https://www.youtube.com/watch?v=ZMvXnhZgshs', 'https://www.youtube.com/watch?v=nCH9-sTsf9M', 'https://www.youtube.com/watch?v=1orgr6cz7xc', 'https://www.youtube.com/watch?v=iVSrc1m3liw', 'https://www.youtube.com/watch?v=DoiwWAsmcHI', 'https://www.youtube.com/watch?v=dT2ObqSJWTc', 'https://www.youtube.com/watch?v=YPmEgbLvWAs', 'https://www.youtube.com/watch?v=9AcSjQkVJZY', 'https://www.youtube.com/watch?v=6P1cSSjau1E', 'https://www.youtube.com/watch?v=-3iVSqn575U', 'https://www.youtube.com/watch?v=LPCyKnQHQRk', 'https://www.youtube.com/watch?v=vCIzoa7j9wo', 'https://www.youtube.com/watch?v=rsHcHBINwM8', 'https://www.youtube.com/watch?v=cUQxDLHIVBw', 'https://www.youtube.com/watch?v=RXo5_rXzYVo', 'https://www.youtube.com/watch?v=s92vwKOtYvY', 'https://www.youtube.com/watch?v=ZAk-dn8mkro', 'https://www.youtube.com/watch?v=YPZZypv4UeE', 'https://www.youtube.com/watch?v=hMlMTmLBRPk', 'https://www.youtube.com/watch?v=AaXYSE0jyyQ', 'https://www.youtube.com/watch?v=2XPJDgiys6s', 'https://www.youtube.com/watch?v=-kBFcHgwbQ0', 'https://www.youtube.com/watch?v=w84d4oMAU9U']}, {'title': 'Informational Videos With Motion Graphics ', 'description': 'These Videos are for Youtube Channels and a lot of motion graphics are used in these videos, Edited in After Effects', 'videos': ['https://www.youtube.com/watch?v=VT__FrXGwjo', 'https://www.youtube.com/watch?v=mkf2iktn5qI', 'https://www.youtube.com/watch?v=gMHiTsPd480', 'https://www.youtube.com/watch?v=OrOZNhgieTA', 'https://www.youtube.com/watch?v=rBAMWZQFgu4', 'https://www.youtube.com/watch?v=EV8mDixX9Wg', 'https://www.youtube.com/watch?v=3bPChiKkA98', 'https://www.youtube.com/watch?v=iqoS_8kHnLY', 'https://www.youtube.com/watch?v=F4pDXUG_Czc', 'https://www.youtube.com/watch?v=mzKgqtsmSKk', 'https://www.youtube.com/watch?v=L9eyM_ZW_q4', 'https://www.youtube.com/watch?v=0c7Pwq8OUYQ', 'https://www.youtube.com/watch?v=BfIcXTv-iSA', 'https://www.youtube.com/watch?v=mLiwag-n9f4', 'https://www.youtube.com/watch?v=3JEKKpMMtdE', 'https://www.youtube.com/watch?v=sME5eFCx-Fk', 'https://www.youtube.com/watch?v=8pT1iJHvilk', 'https://www.youtube.com/watch?v=HjisQtsLljk', 'https://www.youtube.com/watch?v=WwQlpW2ERUc', '', '', '', '', '', '', '']}, {'title': 'Shorts And Reels', 'description': 'These Shorts are for Youtube channels and Insta reels, Edited in Premier Pro', 'videos': ['https://www.youtube.com/watch?v=VGiHxP15Jig', 'https://www.youtube.com/watch?v=32vyyHT6YQk', 'https://www.youtube.com/watch?v=2RdvVsrCqr4', 'https://www.youtube.com/watch?v=HeVDqPHjUlc', 'https://www.youtube.com/watch?v=27ReDK0FcFo', 'https://www.youtube.com/watch?v=7lVZHoF1X0I', 'https://www.youtube.com/watch?v=21SbaK_uXh4', 'https://www.youtube.com/watch?v=LZEON51TATE', 'https://www.youtube.com/watch?v=Sd-OHXEAUy8', 'https://www.youtube.com/watch?v=Wi19h9UDGSY', 'https://www.youtube.com/watch?v=ECQ95l5mBtQ', 'https://www.youtube.com/watch?v=d4MaM6eiz94', 'https://www.youtube.com/watch?v=gLBRZJuIH-o', 'https://www.youtube.com/watch?v=pfNXcrpDbiI', 'https://www.youtube.com/watch?v=hGMlm5CNjhQ', 'https://www.youtube.com/watch?v=od2VwYj8r4g', 'https://www.youtube.com/watch?v=SogQ0BbqWqs', 'https://www.youtube.com/watch?v=ICb5jVQTuB4', 'https://www.youtube.com/watch?v=cVlAQ6NcmuQ', 'https://www.youtube.com/watch?v=1FtnTwuTqnU', 'https://www.youtube.com/watch?v=c1RDpkX2rNg', 'https://www.youtube.com/watch?v=hh20zZY3hRU', 'https://www.youtube.com/watch?v=mIw2WSqULMg', '', '', '']}, {'title': 'Casual Videos', 'description': 'Just some extra casual videos edited in After Effects', 'videos': ['https://www.youtube.com/watch?v=DU1JX6lXooU', 'https://www.youtube.com/watch?v=F54Rk6cEsZ8', 'https://www.youtube.com/watch?v=DCk4FO_kSks', 'https://www.youtube.com/watch?v=qTXA5jetxG4', 'https://www.youtube.com/watch?v=yFHlqIBMRsg', 'https://www.youtube.com/watch?v=aOCOke2qrkc', '', '', '', '', '', '', '', '', '', '', '', '', '', '', '', '', '', '', '', '']}]\n"
     ]
    }
   ],
   "source": [
    "\n",
    "# json format\n",
    "# [ {\n",
    "    # \"title\" : first_row,\n",
    "    # \"decription\" : second_row,\n",
    "    # \"videos\" : remaining_rows\n",
    "# } ....\n",
    "# ]\n",
    "# do this for every column\n",
    "\n",
    "gen_data=[]\n",
    "\n",
    "# iterate columns\n",
    "for col in df.columns:\n",
    "    col_data ={\n",
    "        \"title\" : col,\n",
    "        \"description\" : \"\",\n",
    "        \"videos\" : []\n",
    "    }\n",
    "    # iterate rows\n",
    "    for index, row in df.iterrows():\n",
    "        if index == 0:\n",
    "            col_data['description'] = row[col]\n",
    "        else:\n",
    "            col_data['videos'].append(extract_standard_youtube_link(str(row[col])))\n",
    "    gen_data.append(col_data)\n",
    "\n",
    "print(gen_data)"
   ]
  },
  {
   "cell_type": "code",
   "execution_count": 11,
   "metadata": {},
   "outputs": [
    {
     "name": "stdout",
     "output_type": "stream",
     "text": [
      "[{'title': 'Cinematic Western Wedding Films', 'description': 'Cinematic western wedding Films. With Story build up and Full color correction, Edited in Premier Pro', 'videos': ['https://www.youtube.com/watch?v=tAJnu6SJ9mo', 'https://www.youtube.com/watch?v=u4nLLun2ImE', 'https://www.youtube.com/watch?v=jJLX40HjPFs', 'https://www.youtube.com/watch?v=ZMvXnhZgshs', 'https://www.youtube.com/watch?v=nCH9-sTsf9M', 'https://www.youtube.com/watch?v=1orgr6cz7xc', 'https://www.youtube.com/watch?v=iVSrc1m3liw', 'https://www.youtube.com/watch?v=DoiwWAsmcHI', 'https://www.youtube.com/watch?v=dT2ObqSJWTc', 'https://www.youtube.com/watch?v=YPmEgbLvWAs', 'https://www.youtube.com/watch?v=9AcSjQkVJZY', 'https://www.youtube.com/watch?v=6P1cSSjau1E', 'https://www.youtube.com/watch?v=-3iVSqn575U', 'https://www.youtube.com/watch?v=LPCyKnQHQRk', 'https://www.youtube.com/watch?v=vCIzoa7j9wo', 'https://www.youtube.com/watch?v=rsHcHBINwM8', 'https://www.youtube.com/watch?v=cUQxDLHIVBw', 'https://www.youtube.com/watch?v=RXo5_rXzYVo', 'https://www.youtube.com/watch?v=s92vwKOtYvY', 'https://www.youtube.com/watch?v=ZAk-dn8mkro', 'https://www.youtube.com/watch?v=YPZZypv4UeE', 'https://www.youtube.com/watch?v=hMlMTmLBRPk', 'https://www.youtube.com/watch?v=AaXYSE0jyyQ', 'https://www.youtube.com/watch?v=2XPJDgiys6s', 'https://www.youtube.com/watch?v=-kBFcHgwbQ0', 'https://www.youtube.com/watch?v=w84d4oMAU9U']}, {'title': 'Informational Videos With Motion Graphics ', 'description': 'These Videos are for Youtube Channels and a lot of motion graphics are used in these videos, Edited in After Effects', 'videos': ['https://www.youtube.com/watch?v=VT__FrXGwjo', 'https://www.youtube.com/watch?v=mkf2iktn5qI', 'https://www.youtube.com/watch?v=gMHiTsPd480', 'https://www.youtube.com/watch?v=OrOZNhgieTA', 'https://www.youtube.com/watch?v=rBAMWZQFgu4', 'https://www.youtube.com/watch?v=EV8mDixX9Wg', 'https://www.youtube.com/watch?v=3bPChiKkA98', 'https://www.youtube.com/watch?v=iqoS_8kHnLY', 'https://www.youtube.com/watch?v=F4pDXUG_Czc', 'https://www.youtube.com/watch?v=mzKgqtsmSKk', 'https://www.youtube.com/watch?v=L9eyM_ZW_q4', 'https://www.youtube.com/watch?v=0c7Pwq8OUYQ', 'https://www.youtube.com/watch?v=BfIcXTv-iSA', 'https://www.youtube.com/watch?v=mLiwag-n9f4', 'https://www.youtube.com/watch?v=3JEKKpMMtdE', 'https://www.youtube.com/watch?v=sME5eFCx-Fk', 'https://www.youtube.com/watch?v=8pT1iJHvilk', 'https://www.youtube.com/watch?v=HjisQtsLljk', 'https://www.youtube.com/watch?v=WwQlpW2ERUc']}, {'title': 'Shorts And Reels', 'description': 'These Shorts are for Youtube channels and Insta reels, Edited in Premier Pro', 'videos': ['https://www.youtube.com/watch?v=VGiHxP15Jig', 'https://www.youtube.com/watch?v=32vyyHT6YQk', 'https://www.youtube.com/watch?v=2RdvVsrCqr4', 'https://www.youtube.com/watch?v=HeVDqPHjUlc', 'https://www.youtube.com/watch?v=27ReDK0FcFo', 'https://www.youtube.com/watch?v=7lVZHoF1X0I', 'https://www.youtube.com/watch?v=21SbaK_uXh4', 'https://www.youtube.com/watch?v=LZEON51TATE', 'https://www.youtube.com/watch?v=Sd-OHXEAUy8', 'https://www.youtube.com/watch?v=Wi19h9UDGSY', 'https://www.youtube.com/watch?v=ECQ95l5mBtQ', 'https://www.youtube.com/watch?v=d4MaM6eiz94', 'https://www.youtube.com/watch?v=gLBRZJuIH-o', 'https://www.youtube.com/watch?v=pfNXcrpDbiI', 'https://www.youtube.com/watch?v=hGMlm5CNjhQ', 'https://www.youtube.com/watch?v=od2VwYj8r4g', 'https://www.youtube.com/watch?v=SogQ0BbqWqs', 'https://www.youtube.com/watch?v=ICb5jVQTuB4', 'https://www.youtube.com/watch?v=cVlAQ6NcmuQ', 'https://www.youtube.com/watch?v=1FtnTwuTqnU', 'https://www.youtube.com/watch?v=c1RDpkX2rNg', 'https://www.youtube.com/watch?v=hh20zZY3hRU', 'https://www.youtube.com/watch?v=mIw2WSqULMg']}, {'title': 'Casual Videos', 'description': 'Just some extra casual videos edited in After Effects', 'videos': ['https://www.youtube.com/watch?v=DU1JX6lXooU', 'https://www.youtube.com/watch?v=F54Rk6cEsZ8', 'https://www.youtube.com/watch?v=DCk4FO_kSks', 'https://www.youtube.com/watch?v=qTXA5jetxG4', 'https://www.youtube.com/watch?v=yFHlqIBMRsg', 'https://www.youtube.com/watch?v=aOCOke2qrkc']}]\n"
     ]
    }
   ],
   "source": [
    "# remove empty videos\n",
    "for col in gen_data:\n",
    "    col['videos'] = [x for x in col['videos'] if x != '']\n",
    "\n",
    "print(gen_data)"
   ]
  },
  {
   "cell_type": "code",
   "execution_count": 12,
   "metadata": {},
   "outputs": [],
   "source": [
    "# save to json\n",
    "with open('generated.json', 'w') as outfile:\n",
    "    json.dump(gen_data, outfile)"
   ]
  }
 ],
 "metadata": {
  "kernelspec": {
   "display_name": "Python 3",
   "language": "python",
   "name": "python3"
  },
  "language_info": {
   "codemirror_mode": {
    "name": "ipython",
    "version": 3
   },
   "file_extension": ".py",
   "mimetype": "text/x-python",
   "name": "python",
   "nbconvert_exporter": "python",
   "pygments_lexer": "ipython3",
   "version": "3.10.11"
  },
  "orig_nbformat": 4
 },
 "nbformat": 4,
 "nbformat_minor": 2
}
